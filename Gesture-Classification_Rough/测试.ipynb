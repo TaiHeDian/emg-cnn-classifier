{
 "cells": [
  {
   "attachments": {},
   "cell_type": "markdown",
   "metadata": {},
   "source": [
    "### 数据读入"
   ]
  },
  {
   "cell_type": "code",
   "execution_count": null,
   "metadata": {},
   "outputs": [],
   "source": [
    "import numpy\n",
    "from DataSet import TestDataset\n",
    "from DataSet import TrainDataset\n",
    "from torch.utils.data import Dataset\n",
    "from NET import NET_1D_CNN\n",
    "from NET import NET_1D_CNN_NEW\n",
    "from NET import NET_1D_CNN_16C\n",
    "import numpy as np\n",
    "import torch.nn as nn\n",
    "import torch\n",
    "import time\n",
    "import matplotlib.pyplot as plt\n",
    "\n",
    "use_gpu = torch.cuda.is_available()\n",
    "\n",
    "STARTTIME = time.time()\n",
    "\n",
    "train = TrainDataset()\n",
    "train.__int__()\n",
    "test = TestDataset()\n",
    "test.__int__()\n",
    "\n",
    "\n",
    "each_size = 10\n",
    "test_size=1\n",
    "\n",
    "train_dataloader = torch.utils.data.DataLoader(train, batch_size=each_size, shuffle=True)#,num_workers=16多线程，会变慢？？    #, batch_size=each_size\n",
    "test_dataloader = torch.utils.data.DataLoader(test, batch_size=test_size, shuffle=True)#,num_workers=16"
   ]
  },
  {
   "cell_type": "code",
   "execution_count": 13,
   "metadata": {},
   "outputs": [
    {
     "name": "stdout",
     "output_type": "stream",
     "text": [
      "240\n",
      "600\n"
     ]
    }
   ],
   "source": [
    "#输出长度\n",
    "print(len(train_dataloader))\n",
    "print(len(test_dataloader))\n"
   ]
  },
  {
   "attachments": {},
   "cell_type": "markdown",
   "metadata": {},
   "source": [
    "### 训练部分"
   ]
  },
  {
   "cell_type": "code",
   "execution_count": 7,
   "metadata": {},
   "outputs": [
    {
     "ename": "SyntaxError",
     "evalue": "invalid syntax (2597467026.py, line 7)",
     "output_type": "error",
     "traceback": [
      "\u001b[1;36m  File \u001b[1;32m\"C:\\Users\\wzli\\AppData\\Local\\Temp\\ipykernel_22880\\2597467026.py\"\u001b[1;36m, line \u001b[1;32m7\u001b[0m\n\u001b[1;33m    nn.Linear(512, 320),\u001b[0m\n\u001b[1;37m     ^\u001b[0m\n\u001b[1;31mSyntaxError\u001b[0m\u001b[1;31m:\u001b[0m invalid syntax\n"
     ]
    }
   ],
   "source": [
    "\n",
    "NET_1D_CNN_16C= nn.Sequential(\n",
    "                    nn.Conv1d(16,9,3),\n",
    "                    nn.Conv1d(9,5,3),\n",
    "                    nn.Conv1d(5,1,5),\n",
    "                    #nn.MaxPool1d(2,2),\n",
    "                    nn.Flatten()\n",
    "                    nn.Linear(512, 320),\n",
    "                    nn.ELU(),\n",
    "                    nn.Linear(320, 128),\n",
    "                    nn.ELU(),\n",
    "                    nn.Linear(128, 20),\n",
    "                    )\n",
    "\n",
    "\n",
    "net = NET_1D_CNN_16C\n",
    "print(net)\n",
    "\n",
    "loss_fn = nn.CrossEntropyLoss()\n",
    "\n",
    "\n",
    "learning_rate = 0.005\n",
    "epoch = 50\n",
    "\n",
    "optimizer = torch.optim.SGD(net.parameters(), lr=learning_rate)\n",
    "\n",
    "#初始化网络参数\n",
    "def init_weights(m):\n",
    "    if type(m) == nn.Linear:\n",
    "        nn.init.normal_(m.weight, std=0.1)\n",
    "    elif type(m) == nn.Conv1d:\n",
    "        nn.init.normal_(m.weight, std=0.1)\n",
    "net.apply(init_weights)                     \n",
    "\n",
    "T1TIME = time.time()\n",
    "\n",
    "sunshi=[]\n",
    "zhunquelv=[]\n",
    "nsunshi=[]\n",
    "\n",
    "for i in range(epoch):\n",
    "    \n",
    "    a = 0\n",
    "    ave = 0\n",
    "    if use_gpu:\n",
    "        net.cuda()\n",
    "    net.train()\n",
    "\n",
    "    for data in train_dataloader:\n",
    "        train_data, train_label = data\n",
    "        outputs_label = net(train_data.cuda())\n",
    "        outputs_label = outputs_label.reshape(1, each_size, 20)\n",
    "        matrix = [[0 for j in range(20)] for h in range(each_size)]  # 把标签处理为01矩阵\n",
    "        for k in range(each_size):\n",
    "            matrix[k][train_label[k]] = 1\n",
    "        matrix = torch.from_numpy(np.array(matrix).reshape(1, each_size, 20)).to(torch.float32).cuda()\n",
    "        loss = loss_fn(outputs_label, matrix)\n",
    "        # print(\"train_loss:\", loss)\n",
    "        a += 1\n",
    "        ave = ave + loss\n",
    "        nave=ave.cpu().tolist()\n",
    "\n",
    "        optimizer.zero_grad()  # 梯度清零\n",
    "        loss.backward()  # 误差反向传播\n",
    "        optimizer.step()  # 参数更新\n",
    "    \n",
    "    \n",
    "    #准确率计算\n",
    "    net.eval()\n",
    "    with torch.no_grad():\n",
    "        test=[]\n",
    "        true=[]\n",
    "        right=0\n",
    "        for tdata in test_dataloader:\n",
    "            \n",
    "            test_data, test_label = tdata\n",
    "            test_outputs = net(test_data.cuda()).cpu().numpy()\n",
    "            where=np.where(test_outputs ==np.max(test_outputs))\n",
    "            test.append(where[2])\n",
    "            true.append(test_label)\n",
    "        for ij in range(len(test)):\n",
    "            if (int(test[ij])==int(true[ij])):\n",
    "                right=right+1\n",
    "    zhunquelv.append(right/len(test))\n",
    "    sunshi.append(ave/a)\n",
    "    nsunshi.append(nave/a)\n",
    "    \n",
    "    print('epoch:',i,\"准确率为:\", right/len(test),'平均损失:',nave / a)\n",
    "    # print(\"准确率为:\", right/len(test))\n",
    "    # print('平均损失:',nave / a)#打印每一轮的平均损失\n",
    "\n",
    "print('准确率',zhunquelv)\n",
    "print('损失',nsunshi)\n",
    "\n",
    "epochs = range(0,epoch)\n",
    "plt.figure()\n",
    "plt.subplot(1,2,1)\n",
    "plt.plot(epochs,zhunquelv,c='green', label=\"准确率\")\n",
    "plt.subplot(1,2,2)\n",
    "plt.plot(epochs,nsunshi,c='blue', label=\"平均损失\")\n",
    "plt.show()\n",
    "\n",
    "\n",
    "T2TIME = time.time()\n",
    "\n",
    "torch.save(net, 'CNN.model')            #保存模型\n",
    "ENDTIME = time.time()\n",
    "\n",
    "print(\"训练时间：\",T2TIME - T1TIME)\n",
    "print(ENDTIME - STARTTIME)              #输出耗时"
   ]
  },
  {
   "attachments": {},
   "cell_type": "markdown",
   "metadata": {},
   "source": [
    "### 混淆矩阵"
   ]
  },
  {
   "cell_type": "code",
   "execution_count": null,
   "metadata": {},
   "outputs": [],
   "source": [
    "#混淆矩阵模块\n",
    "net.eval()\n",
    "with torch.no_grad():\n",
    "    ntest=[]\n",
    "    ntrue=[]\n",
    "    nright=0\n",
    "    for tdata in test_dataloader:\n",
    "        test_data, test_label = tdata\n",
    "        test_outputs = net(test_data.cuda()).cpu().numpy()\n",
    "        where=np.where(test_outputs ==np.max(test_outputs))\n",
    "        ntest.append(where[2])\n",
    "        ntrue.append(test_label)\n",
    "\n",
    "    print(len(ntest))\n",
    "    cm=np.zeros((20,20), dtype = int)                       #混淆矩阵初始化\n",
    "    for i in range(0,len(ntest)):\n",
    "        cm[int(ntest[i])][int(ntrue[i])]=cm[int(ntest[i])][int(ntrue[i])]+1\n",
    "\n",
    "    for i in range(0,len(ntest)):\n",
    "        if (int(ntest[i])==int(ntrue[i])):\n",
    "            nright=nright+1\n",
    "    print(cm)\n",
    "\n",
    "    print(\"准确率为：\", nright/len(ntest))\n"
   ]
  },
  {
   "attachments": {},
   "cell_type": "markdown",
   "metadata": {},
   "source": [
    "## 代码测试部分"
   ]
  },
  {
   "attachments": {},
   "cell_type": "markdown",
   "metadata": {},
   "source": [
    "### 测试混淆矩阵"
   ]
  },
  {
   "cell_type": "code",
   "execution_count": null,
   "metadata": {},
   "outputs": [],
   "source": [
    "import numpy as np\n",
    "test=np.zeros((20,20),dtype = int)\n",
    "testout=np.array([3,3,3])\n",
    "tureout=np.array([1,2,3])\n",
    "print (len(testout))\n",
    "for i in range(0,len(testout)):\n",
    "    test[testout[i]][tureout[i]]=test[testout[i]][tureout[i]]+1\n",
    "test[1][3]=1\n",
    "print (test)\n",
    "print (test.shape)"
   ]
  },
  {
   "cell_type": "code",
   "execution_count": null,
   "metadata": {},
   "outputs": [],
   "source": [
    "# coding=utf-8\n",
    "import matplotlib.pyplot as plt\n",
    "\n",
    "x=[0,0.5,0.8,1.0,1.2,1.4,1.6,1.8,2.0,2.2,2.4,3,4,5,6]\n",
    "y=[99.9,99.9,99.7,94.4,66.5,32.2,11.7,4.4,2.9,3.1,3.5,3.7,3.1,2.6,2.3]\n",
    "plt.figure(1)\n",
    "plt.plot(x,y)\n",
    "plt.show()\n",
    "# epoch = range(1,11)\n",
    "# plt.figure(1)\n",
    "# plt.plot(epoch,zhunquelv,c='green', label=\"准确率\")\n",
    "# plt.figure(2)\n",
    "# plt.plot(epoch,nsunshi,c='blue', label=\"平均损失\")\n",
    "\n",
    "plt.show()"
   ]
  },
  {
   "cell_type": "code",
   "execution_count": null,
   "metadata": {},
   "outputs": [],
   "source": [
    "import matplotlib.pyplot as plt\n",
    "import numpy as np\n",
    "\n",
    "x = np.linspace(1, 2, 2)\n",
    "y1 = np.sin(x)\n",
    "\n",
    "y2 = np.cos(x)\n",
    "\n",
    "plt.subplot(1, 2, 1, frameon = False) # 两行一列，位置是1的子图\n",
    "plt.plot(x, y1, 'b--')\n",
    "plt.ylabel('y1')\n",
    "plt.subplot(1, 2, 2, projection = 'polar')\n",
    "plt.plot(x, y2, 'r--')\n",
    "\n",
    "# plt.subplot(2, 2, 3, sharex = ax1, facecolor = 'red')\n",
    "# plt.plot(x, y2, 'r--')\n",
    "# plt.ylabel('y2')\n",
    "\n",
    "plt.show()\n",
    "\n"
   ]
  }
 ],
 "metadata": {
  "kernelspec": {
   "display_name": "gputorch",
   "language": "python",
   "name": "python3"
  },
  "language_info": {
   "codemirror_mode": {
    "name": "ipython",
    "version": 3
   },
   "file_extension": ".py",
   "mimetype": "text/x-python",
   "name": "python",
   "nbconvert_exporter": "python",
   "pygments_lexer": "ipython3",
   "version": "3.7.16"
  },
  "orig_nbformat": 4
 },
 "nbformat": 4,
 "nbformat_minor": 2
}
